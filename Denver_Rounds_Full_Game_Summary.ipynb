{
 "cells": [
  {
   "cell_type": "code",
   "execution_count": 1,
   "metadata": {},
   "outputs": [],
   "source": [
    "from bs4 import BeautifulSoup\n",
    "import requests\n",
    "import pandas as pd\n",
    "import numpy as np"
   ]
  },
  {
   "cell_type": "code",
   "execution_count": 2,
   "metadata": {},
   "outputs": [],
   "source": [
    "basic = 'MP,FG,FGA,FG%,3P,3PA,3P%,FT,FTA,FT%,ORB,DRB,TRB,AST,STL,BLK,TOV,PF,PTS,+/-'.split(',')\n",
    "advanced = 'MP,TS%,eFG%,3PAr,FTr,ORB%,DRB%,TRB%,AST%,STL%,BLK%,TOV%,USG%,ORtg,DRtg,BPM'.split(',')"
   ]
  },
  {
   "cell_type": "code",
   "execution_count": 3,
   "metadata": {},
   "outputs": [],
   "source": [
    "def table_to_df(t, isbasic):\n",
    "    table_body = t.find('tbody')\n",
    "    rows = table_body.find_all('tr')\n",
    "    \n",
    "    data = []\n",
    "    for row in rows:\n",
    "        cols = row.find_all('td')\n",
    "        cols = [ele.text.strip() for ele in cols]\n",
    "        if len(cols) == 0:\n",
    "            continue\n",
    "        else:\n",
    "            if isbasic is True:\n",
    "                if len(cols) == 1:\n",
    "                    data.append([np.nan] * 20)\n",
    "                else:\n",
    "                    for j in range(len(cols)):\n",
    "                        if j == 0:\n",
    "                            time = cols[j].split(':')\n",
    "                            cols[j] = float(time[0]) + float(time[1])/60\n",
    "                        elif cols[j] == '':\n",
    "                            cols[j] = 0.0\n",
    "                        elif j in [3,6,9]:\n",
    "                            cols[j] = float(cols[j])\n",
    "                        else:\n",
    "                            cols[j] = int(cols[j])\n",
    "                    data.append(cols)\n",
    "            else:\n",
    "                if len(cols) == 1:\n",
    "                    data.append([np.nan] * 16)\n",
    "                else:\n",
    "                    for j in range(len(cols)):\n",
    "                        if j == 0:\n",
    "                            time = cols[j].split(':')\n",
    "                            cols[j] = float(time[0]) + float(time[1])/60\n",
    "                        elif cols[j] == '':\n",
    "                            cols[j] = 0.0\n",
    "                        elif j in [13,14]:\n",
    "                            cols[j] = int(cols[j])\n",
    "                        else:\n",
    "                            cols[j] = float(cols[j])\n",
    "                    data.append(cols)\n",
    "    if isbasic:\n",
    "        return pd.DataFrame(data = data, columns = basic)\n",
    "    else:\n",
    "        return pd.DataFrame(data = data, columns = advanced)"
   ]
  },
  {
   "cell_type": "code",
   "execution_count": 4,
   "metadata": {},
   "outputs": [],
   "source": [
    "def make_series_csv(textfile, out_filename):\n",
    "    basic_away_dfs = []\n",
    "    advanced_away_dfs = []\n",
    "    basic_home_dfs = []\n",
    "    advanced_home_dfs = []\n",
    "\n",
    "    with open(textfile,'r') as f:\n",
    "        lines = f.readlines()\n",
    "        game = 1\n",
    "        for line in lines:\n",
    "            parts = line.split(';')\n",
    "            url = parts[0]\n",
    "            away_players = parts[1].split(',')\n",
    "            home_players = parts[2].split(',')\n",
    "            away_win = parts[3]\n",
    "            home_win = parts[4]\n",
    "            away_team = parts[5]\n",
    "            home_team = parts[6]\n",
    "            overtime = bool(int(parts[7][0]))\n",
    "        \n",
    "            page = requests.get(url)\n",
    "            soup = BeautifulSoup(page.content, 'html.parser')\n",
    "            table = soup.find_all('table')\n",
    "        \n",
    "            if overtime:\n",
    "                s = [0,8,9,17]\n",
    "            else:\n",
    "                s = [0,7,8,15]\n",
    "            for i in range(len(table)):\n",
    "                if i == s[0] or i == s[2]:\n",
    "                    df = table_to_df(table[i], True)\n",
    "                    if i == s[0]:\n",
    "                        df.insert(0, 'Player', away_players)\n",
    "                        df.insert(1, 'Team', 0)\n",
    "                        df['Team'] = away_team\n",
    "                        df['Win'] = int(away_win)\n",
    "                        df['Game'] = game\n",
    "                        basic_away_dfs.append(df)\n",
    "                    else:\n",
    "                        df.insert(0, 'Player', home_players)\n",
    "                        df.insert(1, 'Team', 0)\n",
    "                        df['Team'] = home_team\n",
    "                        df['Win'] = int(home_win)\n",
    "                        df['Game'] = game\n",
    "                        basic_home_dfs.append(df)\n",
    "                elif i == s[1] or i == s[3]:\n",
    "                    df = table_to_df(table[i], False)\n",
    "                    if i == s[1]:\n",
    "                        advanced_away_dfs.append(df)\n",
    "                    else:\n",
    "                        advanced_home_dfs.append(df)\n",
    "            game += 1\n",
    "            \n",
    "    f.close()\n",
    "\n",
    "    df = pd.DataFrame()\n",
    "\n",
    "    for i in range(len(basic_away_dfs)):\n",
    "        aj = basic_away_dfs[i].join(advanced_away_dfs[i], rsuffix = 'r')\n",
    "        aj = aj.drop(columns = 'MPr')\n",
    "        hj = basic_home_dfs[i].join(advanced_home_dfs[i], rsuffix = 'r')\n",
    "        hj = hj.drop(columns = 'MPr')\n",
    "        df = df.append(aj.append(hj, ignore_index = True), ignore_index = True)\n",
    "    \n",
    "    df = df.fillna(0.0)\n",
    "    df.to_csv(out_filename, index = False)\n",
    "    print('Completed ' + out_filename)\n",
    "    return"
   ]
  },
  {
   "cell_type": "code",
   "execution_count": 5,
   "metadata": {},
   "outputs": [
    {
     "name": "stdout",
     "output_type": "stream",
     "text": [
      "Completed Denver_Utah_Round1.csv\n",
      "Completed Denver_LAC_Round2.csv\n"
     ]
    }
   ],
   "source": [
    "text_files = ['DEN-UTA.txt', 'DEN-LAC.txt']\n",
    "csv_files = ['Denver_Utah_Round1.csv', 'Denver_LAC_Round2.csv']\n",
    "\n",
    "for tfile, csv_file in zip(text_files, csv_files):\n",
    "    make_series_csv(tfile, csv_file)"
   ]
  }
 ],
 "metadata": {
  "kernelspec": {
   "display_name": "env",
   "language": "python",
   "name": "env"
  },
  "language_info": {
   "codemirror_mode": {
    "name": "ipython",
    "version": 3
   },
   "file_extension": ".py",
   "mimetype": "text/x-python",
   "name": "python",
   "nbconvert_exporter": "python",
   "pygments_lexer": "ipython3",
   "version": "3.8.5"
  }
 },
 "nbformat": 4,
 "nbformat_minor": 4
}
